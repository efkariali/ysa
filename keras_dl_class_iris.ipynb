{
 "cells": [
  {
   "cell_type": "code",
   "execution_count": 25,
   "id": "94d96cc9",
   "metadata": {},
   "outputs": [],
   "source": [
    "#pip install tensorflow"
   ]
  },
  {
   "cell_type": "code",
   "execution_count": 77,
   "id": "a81beb15",
   "metadata": {},
   "outputs": [],
   "source": [
    "import pandas as pd\n",
    "import numpy as np\n",
    "import tensorflow as tf\n",
    "from tensorflow.keras.utils import to_categorical\n",
    "import matplotlib.pyplot as plt\n",
    "from sklearn.preprocessing import  LabelEncoder\n",
    "from sklearn.preprocessing import MinMaxScaler\n",
    "from sklearn.model_selection import train_test_split\n",
    "#from keras.utils import np_utils\n",
    "from keras.models import Sequential\n",
    "from keras.layers import Dense\n",
    "from keras.layers import Dropout\n",
    "from sklearn import datasets\n",
    "from sklearn.datasets import load_iris\n",
    "import tensorflow.compat.v1 as tf\n",
    "tf.disable_v2_behavior()\n",
    "from tensorflow.compat.v1 import train\n",
    "\n"
   ]
  },
  {
   "cell_type": "code",
   "execution_count": 78,
   "id": "f9d19757",
   "metadata": {},
   "outputs": [
    {
     "name": "stdout",
     "output_type": "stream",
     "text": [
      "   Sepal_Length  Sepal_Width  Petal_Length  Petal_Width        Class\n",
      "0           5.1          3.5           1.4          0.2  Iris-setosa\n",
      "1           4.9          3.0           1.4          0.2  Iris-setosa\n",
      "2           4.7          3.2           1.3          0.2  Iris-setosa\n",
      "3           4.6          3.1           1.5          0.2  Iris-setosa\n",
      "4           5.0          3.6           1.4          0.2  Iris-setosa\n"
     ]
    }
   ],
   "source": [
    "url = \"https://archive.ics.uci.edu/ml/machine-learning-databases/iris/iris.data\"\n",
    "columns = ['Sepal_Length', 'Sepal_Width', 'Petal_Length', 'Petal_Width', 'Class']\n",
    "iris_data = pd.read_csv(url,names=columns)\n",
    "print(iris_data.head())"
   ]
  },
  {
   "cell_type": "code",
   "execution_count": 79,
   "id": "e1a480a5",
   "metadata": {},
   "outputs": [
    {
     "name": "stdout",
     "output_type": "stream",
     "text": [
      "verinin boyutları: \n",
      " (150, 5)\n"
     ]
    }
   ],
   "source": [
    "print(\"verinin boyutları: \\n\", iris_data.shape)"
   ]
  },
  {
   "cell_type": "code",
   "execution_count": null,
   "id": "1322aea9",
   "metadata": {},
   "outputs": [],
   "source": [
    "#data_frop sütun bırakma, hangi sütunu alacağımı belirleriz. "
   ]
  },
  {
   "cell_type": "code",
   "execution_count": 108,
   "id": "399591c5",
   "metadata": {},
   "outputs": [],
   "source": [
    "#sınıf özniteliğinin ayrılması \n",
    "X = iris_data.drop(\"Class\", axis=1)\n",
    "y = iris_data[\"Class\"]"
   ]
  },
  {
   "cell_type": "code",
   "execution_count": 81,
   "id": "69d3cbf9",
   "metadata": {},
   "outputs": [],
   "source": [
    "etiketleme = LabelEncoder()\n",
    "\n",
    "y = etiketleme.fit_transform(y)\n",
    "y = to_categorical(y)"
   ]
  },
  {
   "cell_type": "code",
   "execution_count": 82,
   "id": "992d5f34",
   "metadata": {},
   "outputs": [],
   "source": [
    "X_train, X_test, y_train, y_test = train_test_split(X, y, test_size=0.2,) "
   ]
  },
  {
   "cell_type": "code",
   "execution_count": 93,
   "id": "d9544a8c",
   "metadata": {},
   "outputs": [],
   "source": [
    "model = Sequential([\n",
    "    Dense(32, input_shape= (4,), activation='relu'),\n",
    "    Dense(64, activation='relu'), \n",
    "    Dense(3, activation='softmax')\n",
    "])"
   ]
  },
  {
   "cell_type": "code",
   "execution_count": 94,
   "id": "12d93fd8",
   "metadata": {},
   "outputs": [],
   "source": [
    "#Bu kod, Keras kütüphanesini kullanarak bir sinir ağı modeli oluşturur. Aşağıdaki şekildeki katmanları içerir:\n",
    "\n",
    "#Sequential: Bu, modelin katmanlarını sıralı olarak tanımlamak için kullanılan bir Keras modeli türüdür. \n",
    "#Bu model, katmanları sırayla eklediğinizde ardışık bir sinir ağı oluşturur.\n",
    "\n",
    "#Dense: Bu, tam bağlantılı (fully connected) bir katmanı tanımlamak için kullanılır. \n",
    "#Tüm giriş birimleri, tüm çıkış birimleriyle bağlantılıdır.\n",
    "\n",
    "#input_shape: İlk katmanın giriş şeklini tanımlar. Bu durumda, 5 özellikten oluşan bir giriş şekli belirtilmiştir.\n",
    "\n",
    "#activation: Katmanın aktivasyon işlevini belirler. \n",
    "#'relu' aktivasyonu, negatif girişler için sıfır çıktı üretirken, pozitif girişleri doğrudan ileterek \n",
    "#sinir ağının öğrenme kapasitesini artırır. 'softmax' aktivasyonu, çıktıları bir olasılık dağılımına dönüştürür, \n",
    "#böylece çıkışları toplamı 1 olur ve sınıflandırma problemleri için uygun hale gelir.\n",
    "\n",
    "#Bu kod örneğinde, modelin ilk katmanı 32 nörona sahip bir gizli katman olup, giriş şekli 5'tir ve \n",
    "#'relu' aktivasyon fonksiyonu kullanır. İkinci katman 64 nörona sahiptir ve yine 'relu' aktivasyon fonksiyonu kullanır. \n",
    "#Son katman, çıkış şekli 3'tür ve 'softmax' aktivasyon fonksiyonu kullanır. \n",
    "#Bu genellikle çok sınıflı sınıflandırma problemleri için tercih edilen bir yapıdır, \n",
    "#çünkü softmax çıkışları sınıflar arası olasılıkları temsil eder."
   ]
  },
  {
   "cell_type": "code",
   "execution_count": 95,
   "id": "0ec78058",
   "metadata": {},
   "outputs": [
    {
     "name": "stdout",
     "output_type": "stream",
     "text": [
      "Model: \"sequential_5\"\n",
      "_________________________________________________________________\n",
      " Layer (type)                Output Shape              Param #   \n",
      "=================================================================\n",
      " dense_15 (Dense)            (None, 32)                160       \n",
      "                                                                 \n",
      " dense_16 (Dense)            (None, 64)                2112      \n",
      "                                                                 \n",
      " dense_17 (Dense)            (None, 3)                 195       \n",
      "                                                                 \n",
      "=================================================================\n",
      "Total params: 2467 (9.64 KB)\n",
      "Trainable params: 2467 (9.64 KB)\n",
      "Non-trainable params: 0 (0.00 Byte)\n",
      "_________________________________________________________________\n"
     ]
    }
   ],
   "source": [
    "model.summary()"
   ]
  },
  {
   "cell_type": "code",
   "execution_count": 96,
   "id": "cf33604f",
   "metadata": {},
   "outputs": [],
   "source": [
    "#Bu çıktı, bir sinir ağı modelinin mimarisini ve parametre sayısını gösterir. \n",
    "#Aşağıdaki açıklamalarda her satırın neyi temsil ettiği belirtilmiştir:\n",
    "\n",
    "#Model Adı (sequential_2): Bu modelin adıdır. \n",
    "#Keras'ta modeller otomatik olarak adlandırılır, genellikle \"sequential\" kelimesine modelin sırasını belirten bir sayı eklenerek adlandırılır.\n",
    "\n",
    "#Layer (Katman) (type): Modeldeki her katmanın tipini belirtir. \n",
    "#Bu durumda, üç tane 'Dense' katmanı var, yani tam bağlantılı katmanlar.\n",
    "\n",
    "#Output Shape (Çıkış Şekli): Her katmanın çıkış şeklini belirtir. \"None\" \n",
    " #burada, çıkışın belirli bir boyuta sahip olmadığını, ancak veri örneklerinin boyutunun korunduğunu gösterir. \n",
    "#Örneğin, \"None, 32\" ifadesi, çıkıştaki her veri örneğinin 32 elemandan oluştuğunu belirtir.\n",
    "\n",
    "#Param # (Parametre Sayısı): Her katmandaki toplam parametre sayısını verir. \n",
    "#Bu parametreler, ağı öğrenirken güncellenen ağırlıklar ve bias terimleridir. \n",
    "#Her 'Dense' katmanının parametre sayısı, önceki katmandaki nöron sayısıyla (input_dim) \n",
    "#mevcut katmandaki nöron sayısı arasındaki bağlantıları temsil eden ağırlıklar ve bias terimlerinden oluşur.\n",
    "\n",
    "#Toplam parametre sayısı, tüm katmanlardaki parametre sayılarının toplamıdır. \n",
    "#Bu, modelin kaç parametre öğreneceğini ve eğitim sırasında kaç tane güncelleneceğini gösterir. \n",
    "#Eğitimli olmayan parametreler (non-trainable params) genellikle özel katmanlarda veya önceden eğitilmiş \n",
    "#ağırlıklarla kullanıldığında ortaya çıkar.\n",
    "\n",
    "#Bu çıktı, bir sinir ağı modelinin mimarisini ve parametre sayısını gösterir. \n",
    "#Model \"sequential_2\" olarak adlandırılmıştır ve üç katmandan oluşmaktadır:\n",
    "\n",
    "#dense_6 (Dense): 32 nörona sahip bir gizli katmandır. Çıkış şekli \"None, 32\"dir, \n",
    "#yani her veri örneği için 32 çıkış vardır. Toplam 192 parametresi vardır.\n",
    "\n",
    "#dense_7 (Dense): 64 nörona sahip bir gizli katmandır. Çıkış şekli \"None, 64\"tür. Toplam 2112 parametresi vardır.\n",
    "\n",
    "#dense_8 (Dense): 3 nörona sahip bir çıkış katmanıdır. Çıkış şekli \"None, 3\"tür, \n",
    "#çünkü üç sınıf için olasılık dağılımını temsil eder. Toplam 195 parametresi vardır.\n",
    "\n",
    "#Toplam parametre sayısı 2499'dur ve bu parametreler eğitim sırasında öğrenilir. \n",
    "#\"Trainable params\" eğitilebilir parametreleri, \n",
    "#\"Non-trainable params\" ise eğitilemeyen parametreleri temsil eder. \n",
    "#Bu durumda, tüm parametreler eğitilebilir olduğundan \"Non-trainable params\" değeri 0'dır.\n",
    "\n",
    "#Bu çıktı, bir sinir ağı modelinin mimarisini ve parametre sayısını gösterir. \n",
    "#Model \"sequential_2\" olarak adlandırılmıştır ve üç katmandan oluşmaktadır:\n",
    "\n",
    "#dense_6 (Dense): 32 nörona sahip bir gizli katmandır. \n",
    "#Çıkış şekli \"None, 32\"dir, yani her veri örneği için 32 çıkış vardır. Toplam 192 parametresi vardır.\n",
    "\n",
    "#dense_7 (Dense): 64 nörona sahip bir gizli katmandır. Çıkış şekli \"None, 64\"tür. Toplam 2112 parametresi vardır.\n",
    "\n",
    "#dense_8 (Dense): 3 nörona sahip bir çıkış katmanıdır. Çıkış şekli \"None, 3\"tür, \n",
    "#çünkü üç sınıf için olasılık dağılımını temsil eder. Toplam 195 parametresi vardır.\n",
    "\n",
    "#Toplam parametre sayısı 2499'dur ve bu parametreler eğitim sırasında öğrenilir. \n",
    "#\"Trainable params\" eğitilebilir parametreleri, \"Non-trainable params\" ise eğitilemeyen parametreleri temsil eder. \n",
    "#Bu durumda, tüm parametreler eğitilebilir olduğundan \"Non-trainable params\" değeri 0'dır."
   ]
  },
  {
   "cell_type": "code",
   "execution_count": 97,
   "id": "3ac96af5",
   "metadata": {},
   "outputs": [],
   "source": [
    "model.compile(\n",
    "loss=\"categorical_crossentropy\",\n",
    "optimizer=\"adam\",\n",
    "metrics=[ \"accuracy\" ])"
   ]
  },
  {
   "cell_type": "code",
   "execution_count": 98,
   "id": "b04413e7",
   "metadata": {
    "scrolled": false
   },
   "outputs": [
    {
     "name": "stdout",
     "output_type": "stream",
     "text": [
      "Train on 96 samples, validate on 24 samples\n",
      "Epoch 1/100\n",
      "96/96 - 0s - loss: 1.1585 - acc: 0.3438 - val_loss: 1.0822 - val_acc: 0.3333 - 222ms/epoch - 2ms/sample\n",
      "Epoch 2/100\n",
      "96/96 - 0s - loss: 1.0283 - acc: 0.6250 - val_loss: 0.9670 - val_acc: 0.5417 - 20ms/epoch - 207us/sample\n",
      "Epoch 3/100\n",
      "96/96 - 0s - loss: 0.9736 - acc: 0.4479 - val_loss: 0.9045 - val_acc: 0.5000 - 18ms/epoch - 190us/sample\n",
      "Epoch 4/100\n",
      "96/96 - 0s - loss: 0.9398 - acc: 0.5625 - val_loss: 0.8572 - val_acc: 0.5833 - 18ms/epoch - 182us/sample\n",
      "Epoch 5/100\n",
      "96/96 - 0s - loss: 0.8929 - acc: 0.6875 - val_loss: 0.8404 - val_acc: 0.5833 - 17ms/epoch - 175us/sample\n",
      "Epoch 6/100\n",
      "96/96 - 0s - loss: 0.8589 - acc: 0.7292 - val_loss: 0.8257 - val_acc: 0.7500 - 17ms/epoch - 177us/sample\n"
     ]
    },
    {
     "name": "stderr",
     "output_type": "stream",
     "text": [
      "C:\\Users\\aktas\\anaconda3\\Lib\\site-packages\\keras\\src\\engine\\training_v1.py:2335: UserWarning: `Model.state_updates` will be removed in a future version. This property should not be used in TensorFlow 2.0, as `updates` are applied automatically.\n",
      "  updates = self.state_updates\n"
     ]
    },
    {
     "name": "stdout",
     "output_type": "stream",
     "text": [
      "Epoch 7/100\n",
      "96/96 - 0s - loss: 0.8246 - acc: 0.7083 - val_loss: 0.8208 - val_acc: 0.5833 - 18ms/epoch - 189us/sample\n",
      "Epoch 8/100\n",
      "96/96 - 0s - loss: 0.7866 - acc: 0.6875 - val_loss: 0.7947 - val_acc: 0.5833 - 17ms/epoch - 173us/sample\n",
      "Epoch 9/100\n",
      "96/96 - 0s - loss: 0.7518 - acc: 0.6875 - val_loss: 0.7601 - val_acc: 0.6667 - 20ms/epoch - 209us/sample\n",
      "Epoch 10/100\n",
      "96/96 - 0s - loss: 0.7165 - acc: 0.7188 - val_loss: 0.7358 - val_acc: 0.7500 - 19ms/epoch - 198us/sample\n",
      "Epoch 11/100\n",
      "96/96 - 0s - loss: 0.6832 - acc: 0.7604 - val_loss: 0.7134 - val_acc: 0.7500 - 18ms/epoch - 188us/sample\n",
      "Epoch 12/100\n",
      "96/96 - 0s - loss: 0.6498 - acc: 0.7812 - val_loss: 0.6925 - val_acc: 0.7083 - 18ms/epoch - 183us/sample\n",
      "Epoch 13/100\n",
      "96/96 - 0s - loss: 0.6164 - acc: 0.7917 - val_loss: 0.6710 - val_acc: 0.7083 - 18ms/epoch - 188us/sample\n",
      "Epoch 14/100\n",
      "96/96 - 0s - loss: 0.5878 - acc: 0.7604 - val_loss: 0.6488 - val_acc: 0.7083 - 18ms/epoch - 187us/sample\n",
      "Epoch 15/100\n",
      "96/96 - 0s - loss: 0.5665 - acc: 0.7604 - val_loss: 0.6376 - val_acc: 0.6667 - 18ms/epoch - 183us/sample\n",
      "Epoch 16/100\n",
      "96/96 - 0s - loss: 0.5371 - acc: 0.7396 - val_loss: 0.6151 - val_acc: 0.7917 - 16ms/epoch - 172us/sample\n",
      "Epoch 17/100\n",
      "96/96 - 0s - loss: 0.5148 - acc: 0.8333 - val_loss: 0.5919 - val_acc: 0.8333 - 17ms/epoch - 179us/sample\n",
      "Epoch 18/100\n",
      "96/96 - 0s - loss: 0.4993 - acc: 0.9271 - val_loss: 0.5787 - val_acc: 0.8333 - 17ms/epoch - 182us/sample\n",
      "Epoch 19/100\n",
      "96/96 - 0s - loss: 0.4773 - acc: 0.8646 - val_loss: 0.5665 - val_acc: 0.8333 - 18ms/epoch - 186us/sample\n",
      "Epoch 20/100\n",
      "96/96 - 0s - loss: 0.4629 - acc: 0.8229 - val_loss: 0.5555 - val_acc: 0.7917 - 16ms/epoch - 166us/sample\n",
      "Epoch 21/100\n",
      "96/96 - 0s - loss: 0.4506 - acc: 0.8021 - val_loss: 0.5431 - val_acc: 0.8333 - 18ms/epoch - 183us/sample\n",
      "Epoch 22/100\n",
      "96/96 - 0s - loss: 0.4377 - acc: 0.9271 - val_loss: 0.5251 - val_acc: 0.9167 - 15ms/epoch - 155us/sample\n",
      "Epoch 23/100\n",
      "96/96 - 0s - loss: 0.4247 - acc: 0.9479 - val_loss: 0.5151 - val_acc: 0.8750 - 18ms/epoch - 187us/sample\n",
      "Epoch 24/100\n",
      "96/96 - 0s - loss: 0.4109 - acc: 0.9479 - val_loss: 0.5059 - val_acc: 0.8333 - 17ms/epoch - 176us/sample\n",
      "Epoch 25/100\n",
      "96/96 - 0s - loss: 0.4003 - acc: 0.8646 - val_loss: 0.5014 - val_acc: 0.8333 - 14ms/epoch - 141us/sample\n",
      "Epoch 26/100\n",
      "96/96 - 0s - loss: 0.3933 - acc: 0.8958 - val_loss: 0.4849 - val_acc: 0.8750 - 19ms/epoch - 200us/sample\n",
      "Epoch 27/100\n",
      "96/96 - 0s - loss: 0.3820 - acc: 0.9375 - val_loss: 0.4794 - val_acc: 0.8333 - 17ms/epoch - 175us/sample\n",
      "Epoch 28/100\n",
      "96/96 - 0s - loss: 0.3749 - acc: 0.9375 - val_loss: 0.4669 - val_acc: 0.8750 - 17ms/epoch - 176us/sample\n",
      "Epoch 29/100\n",
      "96/96 - 0s - loss: 0.3638 - acc: 0.9167 - val_loss: 0.4610 - val_acc: 0.8333 - 17ms/epoch - 175us/sample\n",
      "Epoch 30/100\n",
      "96/96 - 0s - loss: 0.3557 - acc: 0.9271 - val_loss: 0.4491 - val_acc: 0.8750 - 17ms/epoch - 174us/sample\n",
      "Epoch 31/100\n",
      "96/96 - 0s - loss: 0.3469 - acc: 0.9583 - val_loss: 0.4408 - val_acc: 0.8750 - 17ms/epoch - 176us/sample\n",
      "Epoch 32/100\n",
      "96/96 - 0s - loss: 0.3406 - acc: 0.9479 - val_loss: 0.4311 - val_acc: 0.9167 - 23ms/epoch - 235us/sample\n",
      "Epoch 33/100\n",
      "96/96 - 0s - loss: 0.3340 - acc: 0.9792 - val_loss: 0.4198 - val_acc: 0.9167 - 19ms/epoch - 197us/sample\n",
      "Epoch 34/100\n",
      "96/96 - 0s - loss: 0.3260 - acc: 0.9792 - val_loss: 0.4098 - val_acc: 0.9167 - 16ms/epoch - 167us/sample\n",
      "Epoch 35/100\n",
      "96/96 - 0s - loss: 0.3174 - acc: 0.9688 - val_loss: 0.4050 - val_acc: 0.9167 - 16ms/epoch - 170us/sample\n",
      "Epoch 36/100\n",
      "96/96 - 0s - loss: 0.3103 - acc: 0.9688 - val_loss: 0.4057 - val_acc: 0.8750 - 17ms/epoch - 177us/sample\n",
      "Epoch 37/100\n",
      "96/96 - 0s - loss: 0.3047 - acc: 0.9583 - val_loss: 0.3963 - val_acc: 0.8750 - 16ms/epoch - 168us/sample\n",
      "Epoch 38/100\n",
      "96/96 - 0s - loss: 0.2992 - acc: 0.9688 - val_loss: 0.3777 - val_acc: 0.9167 - 17ms/epoch - 178us/sample\n",
      "Epoch 39/100\n",
      "96/96 - 0s - loss: 0.2920 - acc: 0.9792 - val_loss: 0.3707 - val_acc: 0.9167 - 17ms/epoch - 182us/sample\n",
      "Epoch 40/100\n",
      "96/96 - 0s - loss: 0.2822 - acc: 0.9792 - val_loss: 0.3705 - val_acc: 0.9167 - 17ms/epoch - 182us/sample\n",
      "Epoch 41/100\n",
      "96/96 - 0s - loss: 0.2786 - acc: 0.9688 - val_loss: 0.3635 - val_acc: 0.9167 - 18ms/epoch - 182us/sample\n",
      "Epoch 42/100\n",
      "96/96 - 0s - loss: 0.2705 - acc: 0.9688 - val_loss: 0.3537 - val_acc: 0.9167 - 17ms/epoch - 180us/sample\n",
      "Epoch 43/100\n",
      "96/96 - 0s - loss: 0.2659 - acc: 0.9896 - val_loss: 0.3386 - val_acc: 0.9167 - 16ms/epoch - 167us/sample\n",
      "Epoch 44/100\n",
      "96/96 - 0s - loss: 0.2591 - acc: 0.9896 - val_loss: 0.3357 - val_acc: 0.9167 - 16ms/epoch - 171us/sample\n",
      "Epoch 45/100\n",
      "96/96 - 0s - loss: 0.2589 - acc: 0.9688 - val_loss: 0.3507 - val_acc: 0.8750 - 17ms/epoch - 175us/sample\n",
      "Epoch 46/100\n",
      "96/96 - 0s - loss: 0.2465 - acc: 0.9688 - val_loss: 0.3219 - val_acc: 0.9167 - 17ms/epoch - 172us/sample\n",
      "Epoch 47/100\n",
      "96/96 - 0s - loss: 0.2502 - acc: 0.9479 - val_loss: 0.3089 - val_acc: 0.8750 - 18ms/epoch - 192us/sample\n",
      "Epoch 48/100\n",
      "96/96 - 0s - loss: 0.2357 - acc: 0.9792 - val_loss: 0.3207 - val_acc: 0.9167 - 18ms/epoch - 190us/sample\n",
      "Epoch 49/100\n",
      "96/96 - 0s - loss: 0.2369 - acc: 0.9479 - val_loss: 0.3304 - val_acc: 0.8750 - 18ms/epoch - 190us/sample\n",
      "Epoch 50/100\n",
      "96/96 - 0s - loss: 0.2228 - acc: 0.9583 - val_loss: 0.2971 - val_acc: 0.9167 - 18ms/epoch - 187us/sample\n",
      "Epoch 51/100\n",
      "96/96 - 0s - loss: 0.2223 - acc: 0.9792 - val_loss: 0.2861 - val_acc: 0.9167 - 18ms/epoch - 185us/sample\n",
      "Epoch 52/100\n",
      "96/96 - 0s - loss: 0.2148 - acc: 1.0000 - val_loss: 0.2981 - val_acc: 0.9167 - 17ms/epoch - 182us/sample\n",
      "Epoch 53/100\n",
      "96/96 - 0s - loss: 0.2158 - acc: 0.9583 - val_loss: 0.3050 - val_acc: 0.9167 - 17ms/epoch - 174us/sample\n",
      "Epoch 54/100\n",
      "96/96 - 0s - loss: 0.2039 - acc: 0.9792 - val_loss: 0.2708 - val_acc: 0.9167 - 17ms/epoch - 175us/sample\n",
      "Epoch 55/100\n",
      "96/96 - 0s - loss: 0.2027 - acc: 0.9896 - val_loss: 0.2733 - val_acc: 0.9167 - 16ms/epoch - 162us/sample\n",
      "Epoch 56/100\n",
      "96/96 - 0s - loss: 0.1958 - acc: 0.9896 - val_loss: 0.2730 - val_acc: 0.9167 - 17ms/epoch - 178us/sample\n",
      "Epoch 57/100\n",
      "96/96 - 0s - loss: 0.1923 - acc: 0.9896 - val_loss: 0.2666 - val_acc: 0.9167 - 17ms/epoch - 175us/sample\n",
      "Epoch 58/100\n",
      "96/96 - 0s - loss: 0.1858 - acc: 0.9896 - val_loss: 0.2683 - val_acc: 0.9167 - 16ms/epoch - 170us/sample\n",
      "Epoch 59/100\n",
      "96/96 - 0s - loss: 0.1826 - acc: 0.9792 - val_loss: 0.2595 - val_acc: 0.9167 - 17ms/epoch - 180us/sample\n",
      "Epoch 60/100\n",
      "96/96 - 0s - loss: 0.1813 - acc: 0.9792 - val_loss: 0.2619 - val_acc: 0.9167 - 15ms/epoch - 152us/sample\n",
      "Epoch 61/100\n",
      "96/96 - 0s - loss: 0.1738 - acc: 0.9896 - val_loss: 0.2404 - val_acc: 0.9167 - 18ms/epoch - 192us/sample\n",
      "Epoch 62/100\n",
      "96/96 - 0s - loss: 0.1712 - acc: 0.9896 - val_loss: 0.2494 - val_acc: 0.9167 - 19ms/epoch - 193us/sample\n",
      "Epoch 63/100\n",
      "96/96 - 0s - loss: 0.1662 - acc: 0.9896 - val_loss: 0.2514 - val_acc: 0.9167 - 16ms/epoch - 166us/sample\n",
      "Epoch 64/100\n",
      "96/96 - 0s - loss: 0.1635 - acc: 0.9896 - val_loss: 0.2335 - val_acc: 0.9167 - 17ms/epoch - 181us/sample\n",
      "Epoch 65/100\n",
      "96/96 - 0s - loss: 0.1604 - acc: 0.9896 - val_loss: 0.2413 - val_acc: 0.9167 - 17ms/epoch - 179us/sample\n",
      "Epoch 66/100\n",
      "96/96 - 0s - loss: 0.1549 - acc: 0.9896 - val_loss: 0.2401 - val_acc: 0.9167 - 16ms/epoch - 167us/sample\n",
      "Epoch 67/100\n",
      "96/96 - 0s - loss: 0.1533 - acc: 0.9896 - val_loss: 0.2395 - val_acc: 0.9167 - 15ms/epoch - 155us/sample\n",
      "Epoch 68/100\n",
      "96/96 - 0s - loss: 0.1563 - acc: 0.9896 - val_loss: 0.2213 - val_acc: 0.9167 - 15ms/epoch - 161us/sample\n",
      "Epoch 69/100\n",
      "96/96 - 0s - loss: 0.1474 - acc: 0.9792 - val_loss: 0.2454 - val_acc: 0.9167 - 17ms/epoch - 177us/sample\n",
      "Epoch 70/100\n",
      "96/96 - 0s - loss: 0.1436 - acc: 0.9792 - val_loss: 0.2274 - val_acc: 0.9167 - 18ms/epoch - 191us/sample\n",
      "Epoch 71/100\n",
      "96/96 - 0s - loss: 0.1380 - acc: 0.9896 - val_loss: 0.2102 - val_acc: 0.9167 - 17ms/epoch - 172us/sample\n",
      "Epoch 72/100\n",
      "96/96 - 0s - loss: 0.1384 - acc: 0.9896 - val_loss: 0.2141 - val_acc: 0.9167 - 16ms/epoch - 162us/sample\n",
      "Epoch 73/100\n",
      "96/96 - 0s - loss: 0.1378 - acc: 0.9792 - val_loss: 0.2287 - val_acc: 0.9167 - 17ms/epoch - 178us/sample\n",
      "Epoch 74/100\n",
      "96/96 - 0s - loss: 0.1318 - acc: 0.9896 - val_loss: 0.2232 - val_acc: 0.9167 - 17ms/epoch - 173us/sample\n",
      "Epoch 75/100\n",
      "96/96 - 0s - loss: 0.1290 - acc: 0.9896 - val_loss: 0.2128 - val_acc: 0.9167 - 14ms/epoch - 142us/sample\n",
      "Epoch 76/100\n",
      "96/96 - 0s - loss: 0.1301 - acc: 0.9896 - val_loss: 0.2028 - val_acc: 0.9167 - 12ms/epoch - 130us/sample\n"
     ]
    },
    {
     "name": "stdout",
     "output_type": "stream",
     "text": [
      "Epoch 77/100\n",
      "96/96 - 0s - loss: 0.1324 - acc: 0.9792 - val_loss: 0.2460 - val_acc: 0.9167 - 13ms/epoch - 130us/sample\n",
      "Epoch 78/100\n",
      "96/96 - 0s - loss: 0.1228 - acc: 0.9792 - val_loss: 0.2082 - val_acc: 0.9167 - 12ms/epoch - 122us/sample\n",
      "Epoch 79/100\n",
      "96/96 - 0s - loss: 0.1209 - acc: 0.9896 - val_loss: 0.1995 - val_acc: 0.9167 - 12ms/epoch - 123us/sample\n",
      "Epoch 80/100\n",
      "96/96 - 0s - loss: 0.1159 - acc: 0.9896 - val_loss: 0.2142 - val_acc: 0.9167 - 13ms/epoch - 138us/sample\n",
      "Epoch 81/100\n",
      "96/96 - 0s - loss: 0.1142 - acc: 0.9896 - val_loss: 0.2137 - val_acc: 0.9167 - 12ms/epoch - 129us/sample\n",
      "Epoch 82/100\n",
      "96/96 - 0s - loss: 0.1136 - acc: 0.9896 - val_loss: 0.2085 - val_acc: 0.9167 - 13ms/epoch - 132us/sample\n",
      "Epoch 83/100\n",
      "96/96 - 0s - loss: 0.1126 - acc: 0.9896 - val_loss: 0.1850 - val_acc: 0.9167 - 12ms/epoch - 128us/sample\n",
      "Epoch 84/100\n",
      "96/96 - 0s - loss: 0.1097 - acc: 1.0000 - val_loss: 0.2260 - val_acc: 0.9167 - 12ms/epoch - 129us/sample\n",
      "Epoch 85/100\n",
      "96/96 - 0s - loss: 0.1127 - acc: 0.9792 - val_loss: 0.2064 - val_acc: 0.9167 - 12ms/epoch - 130us/sample\n",
      "Epoch 86/100\n",
      "96/96 - 0s - loss: 0.1167 - acc: 0.9792 - val_loss: 0.1755 - val_acc: 0.9167 - 13ms/epoch - 131us/sample\n",
      "Epoch 87/100\n",
      "96/96 - 0s - loss: 0.1058 - acc: 0.9896 - val_loss: 0.2305 - val_acc: 0.9167 - 12ms/epoch - 121us/sample\n",
      "Epoch 88/100\n",
      "96/96 - 0s - loss: 0.1044 - acc: 0.9792 - val_loss: 0.2003 - val_acc: 0.9167 - 12ms/epoch - 129us/sample\n",
      "Epoch 89/100\n",
      "96/96 - 0s - loss: 0.0978 - acc: 0.9896 - val_loss: 0.1945 - val_acc: 0.9167 - 12ms/epoch - 129us/sample\n",
      "Epoch 90/100\n",
      "96/96 - 0s - loss: 0.1012 - acc: 0.9896 - val_loss: 0.2032 - val_acc: 0.9167 - 13ms/epoch - 134us/sample\n",
      "Epoch 91/100\n",
      "96/96 - 0s - loss: 0.1086 - acc: 0.9896 - val_loss: 0.1716 - val_acc: 0.9167 - 13ms/epoch - 136us/sample\n",
      "Epoch 92/100\n",
      "96/96 - 0s - loss: 0.0991 - acc: 0.9896 - val_loss: 0.2355 - val_acc: 0.9167 - 14ms/epoch - 141us/sample\n",
      "Epoch 93/100\n",
      "96/96 - 0s - loss: 0.0954 - acc: 0.9896 - val_loss: 0.1969 - val_acc: 0.9167 - 12ms/epoch - 121us/sample\n",
      "Epoch 94/100\n",
      "96/96 - 0s - loss: 0.0919 - acc: 0.9896 - val_loss: 0.1819 - val_acc: 0.9167 - 13ms/epoch - 138us/sample\n",
      "Epoch 95/100\n",
      "96/96 - 0s - loss: 0.0894 - acc: 0.9896 - val_loss: 0.2026 - val_acc: 0.9167 - 12ms/epoch - 128us/sample\n",
      "Epoch 96/100\n",
      "96/96 - 0s - loss: 0.0882 - acc: 0.9896 - val_loss: 0.2041 - val_acc: 0.9167 - 12ms/epoch - 122us/sample\n",
      "Epoch 97/100\n",
      "96/96 - 0s - loss: 0.0877 - acc: 0.9896 - val_loss: 0.1883 - val_acc: 0.9167 - 12ms/epoch - 129us/sample\n",
      "Epoch 98/100\n",
      "96/96 - 0s - loss: 0.0863 - acc: 0.9896 - val_loss: 0.1966 - val_acc: 0.9167 - 12ms/epoch - 130us/sample\n",
      "Epoch 99/100\n",
      "96/96 - 0s - loss: 0.0854 - acc: 0.9896 - val_loss: 0.1992 - val_acc: 0.9167 - 14ms/epoch - 141us/sample\n",
      "Epoch 100/100\n",
      "96/96 - 0s - loss: 0.0832 - acc: 0.9896 - val_loss: 0.2012 - val_acc: 0.9167 - 13ms/epoch - 133us/sample\n"
     ]
    }
   ],
   "source": [
    "history = model.fit(X_train, y_train, epochs=100, verbose=2, batch_size=16, validation_split=0.2)"
   ]
  },
  {
   "cell_type": "code",
   "execution_count": 107,
   "id": "0a0fd928",
   "metadata": {},
   "outputs": [
    {
     "data": {
      "text/plain": [
       "[<matplotlib.lines.Line2D at 0x17078cf30d0>]"
      ]
     },
     "execution_count": 107,
     "metadata": {},
     "output_type": "execute_result"
    },
    {
     "data": {
      "image/png": "[encoded data removed]",
      "text/plain": [
       "<Figure size 640x480 with 1 Axes>"
      ]
     },
     "metadata": {},
     "output_type": "display_data"
    }
   ],
   "source": [
    "#Dogruluk ile ilgili grafik\n",
    "plt.plot(history.history['acc'], label='Eğitim Doğruluğu')\n",
    "plt.plot(history.history['val_acc'], label='Doğrulama Doğruluğu')\n",
    "\n"
   ]
  },
  {
   "cell_type": "code",
   "execution_count": 103,
   "id": "256a040b",
   "metadata": {},
   "outputs": [
    {
     "data": {
      "image/png": "[encoded data removed]",
      "text/plain": [
       "<Figure size 640x480 with 1 Axes>"
      ]
     },
     "metadata": {},
     "output_type": "display_data"
    }
   ],
   "source": [
    "# Hata grafiği\n",
    "plt.plot(history.history[\"loss\"], \"--\")\n",
    "plt.plot(history.history[\"val_loss\"])\n",
    "plt.title(\"Model hataları\")\n",
    "plt.ylabel(\"Hatalar\n",
    "           \")\n",
    "plt.xlabel(\"Devir (epoch)\")\n",
    "plt.legend([\"Eğitim\", \"Doğrulama\"], loc=\"upper right\")\n",
    "plt.show()"
   ]
  },
  {
   "cell_type": "code",
   "execution_count": 100,
   "id": "62ec26d0",
   "metadata": {},
   "outputs": [
    {
     "name": "stdout",
     "output_type": "stream",
     "text": [
      "\n",
      "Doğruluk: 0.96666664\n"
     ]
    }
   ],
   "source": [
    "#test verisi ile performans ölçümü\n",
    "scores= model.evaluate(X_test, y_test)\n",
    "print(\"\\nDoğruluk:\", scores[1])"
   ]
  }
 ],
 "metadata": {
  "kernelspec": {
   "display_name": "Python 3 (ipykernel)",
   "language": "python",
   "name": "python3"
  },
  "language_info": {
   "codemirror_mode": {
    "name": "ipython",
    "version": 3
   },
   "file_extension": ".py",
   "mimetype": "text/x-python",
   "name": "python",
   "nbconvert_exporter": "python",
   "pygments_lexer": "ipython3",
   "version": "3.11.4"
  }
 },
 "nbformat": 4,
 "nbformat_minor": 5
}
